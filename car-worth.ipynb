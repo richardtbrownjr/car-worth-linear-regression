{
 "cells": [
  {
   "cell_type": "code",
   "execution_count": 61,
   "metadata": {
    "collapsed": false
   },
   "outputs": [],
   "source": [
    "import matplotlib.pyplot as plt\n",
    "import pandas as pd\n",
    "import numpy as np\n",
    "from sklearn.cross_validation import train_test_split\n",
    "from sklearn.linear_model import LinearRegression\n",
    "from sklearn.preprocessing import PolynomialFeatures\n",
    "from sklearn import linear_model, pipeline, preprocessing\n",
    "\n",
    "import pylab as pl\n",
    "import itertools\n",
    "\n",
    "%matplotlib inline"
   ]
  },
  {
   "cell_type": "code",
   "execution_count": 62,
   "metadata": {
    "collapsed": true
   },
   "outputs": [],
   "source": [
    "df = pd.read_csv(\"car_data.csv\")"
   ]
  },
  {
   "cell_type": "code",
   "execution_count": 68,
   "metadata": {
    "collapsed": false
   },
   "outputs": [
    {
     "data": {
      "image/png": "[encoded data removed]",
      "text/plain": [
       "<matplotlib.figure.Figure at 0x10ee95080>"
      ]
     },
     "metadata": {},
     "output_type": "display_data"
    }
   ],
   "source": [
    "#print(type(df))\n",
    "#print(df)\n",
    "xPrice = df[\"Price\"]\n",
    "yMileage = df[[\"Mileage\"]]\n",
    "\n",
    "regr = LinearRegression()\n",
    "regr.fit(yMileage, xPrice)\n",
    "plt.scatter(yMileage, xPrice, color='black') \n",
    "plt.plot(yMileage, regr.predict(yMileage), color='red')\n",
    "plt.ylabel(\"Price\")\n",
    "\n",
    "plt.xlabel('Mileage')\n",
    "plt.show()"
   ]
  },
  {
   "cell_type": "code",
   "execution_count": 71,
   "metadata": {
    "collapsed": false
   },
   "outputs": [
    {
     "name": "stdout",
     "output_type": "stream",
     "text": [
      "Intercept:             24764.5590061\n",
      "Coefficient:           [-0.1725205]\n"
     ]
    }
   ],
   "source": [
    "# print intercept and coefficients and RScore\n",
    "#print('RScore', regr.score(xPrice, yMileage))\n",
    "print('Intercept:            ', regr.intercept_)\n",
    "print('Coefficient:          ', regr.coef_)\n"
   ]
  },
  {
   "cell_type": "markdown",
   "metadata": {},
   "source": [
    "# Task 2"
   ]
  },
  {
   "cell_type": "code",
   "execution_count": 56,
   "metadata": {
    "collapsed": false
   },
   "outputs": [],
   "source": [
    "features = [\"Mileage\", \"Cylinder\", \"Liter\",\"Doors\",\"Cruise\",\"Sound\",\"Leather\"]\n",
    "price = [\"Price\"]\n",
    "\n",
    "X = df[features]\n",
    "y = df[price]\n",
    "\n",
    "regr = LinearRegression()\n",
    "regrtask2 = regr.fit(X, y)"
   ]
  },
  {
   "cell_type": "code",
   "execution_count": 57,
   "metadata": {
    "collapsed": false
   },
   "outputs": [
    {
     "name": "stdout",
     "output_type": "stream",
     "text": [
      "R-squared based on Mileage, cylinder,liter etc:       0.446264353673\n"
     ]
    }
   ],
   "source": [
    "print('R-squared based on Mileage, cylinder,liter etc:      ', regrtask2.score(X,y))"
   ]
  },
  {
   "cell_type": "markdown",
   "metadata": {},
   "source": [
    "# Task 3"
   ]
  },
  {
   "cell_type": "code",
   "execution_count": null,
   "metadata": {
    "collapsed": false
   },
   "outputs": [],
   "source": [
    "# find the best combination?\n",
    "combos = []\n",
    "#from itertools import combinations\n",
    "   \n",
    "for i in range(1, 8):\n",
    "    combos.append(itertools.combinations(features, i))    \n",
    "\n",
    "check_score = 0\n",
    "for combin in combos:\n",
    "    for groupx in combin:\n",
    "        groupx = list(groupx)\n",
    "        pricex = df[groupx]\n",
    "        degrees = 9\n",
    "        \n",
    "        for degree in range(degrees):\n",
    "            model = pipeline.Pipeline([\n",
    "                    ('poly', preprocessing.PolynomialFeatures(degree=degree)),\n",
    "                    ('linear', linear_model.LinearRegression(fit_intercept=False))])\n",
    "            \n",
    "            model = model.fit(X,y)\n",
    "            model_score = model.score(X,y)\n",
    "        if check_score < model.score(X, y):\n",
    "            check_score = model.score(X,y)\n",
    "            max_group = group\n",
    "            best_degree = degree\n",
    "            \n",
    "print(degree, max_group, check_score)"
   ]
  },
  {
   "cell_type": "code",
   "execution_count": null,
   "metadata": {
    "collapsed": true
   },
   "outputs": [],
   "source": []
  }
 ],
 "metadata": {
  "kernelspec": {
   "display_name": "Python 3",
   "language": "python",
   "name": "python3"
  },
  "language_info": {
   "codemirror_mode": {
    "name": "ipython",
    "version": 3
   },
   "file_extension": ".py",
   "mimetype": "text/x-python",
   "name": "python",
   "nbconvert_exporter": "python",
   "pygments_lexer": "ipython3",
   "version": "3.5.1"
  }
 },
 "nbformat": 4,
 "nbformat_minor": 0
}
